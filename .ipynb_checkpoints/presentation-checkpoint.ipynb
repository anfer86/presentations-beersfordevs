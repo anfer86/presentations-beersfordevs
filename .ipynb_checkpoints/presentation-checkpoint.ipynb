{
 "cells": [
  {
   "cell_type": "markdown",
   "metadata": {
    "hideCode": false,
    "hidePrompt": false,
    "slideshow": {
     "slide_type": "skip"
    }
   },
   "source": [
    "<link rel=\"stylesheet\" href=\"https://maxcdn.bootstrapcdn.com/bootstrap/4.0.0/css/bootstrap.min.css\" integrity=\"sha384-Gn5384xqQ1aoWXA+058RXPxPg6fy4IWvTNh0E263XmFcJlSAwiGgFAW/dAiS6JXm\" crossorigin=\"anonymous\">\n",
    "<style>\n",
    ".body{\n",
    "    background-color:white;\n",
    "    }\n",
    "</style>"
   ]
  },
  {
   "cell_type": "markdown",
   "metadata": {
    "hideCode": false,
    "hidePrompt": false,
    "slideshow": {
     "slide_type": "slide"
    }
   },
   "source": [
    "<link rel=\"stylesheet\" href=\"ipython.min.css\">\n",
    "\n",
    "<center>\n",
    "<img src=\"img/logoifsc.png\" width=\"20%\">\n",
    "\n",
    "---\n",
    "\n",
    "# Ciência de Dados\n",
    "## Modelos Preditivos\n",
    "\n",
    "### Prof. Carlos Andres Ferrero\n",
    "---\n",
    "\n",
    "</center>"
   ]
  },
  {
   "cell_type": "markdown",
   "metadata": {
    "hideCode": false,
    "hidePrompt": false,
    "slideshow": {
     "slide_type": "slide"
    }
   },
   "source": [
    "## Tópicos\n",
    "\n",
    "- Apresentação\n",
    "- Ciência de Dados\n",
    "- O que são modelos?\n",
    "- Texto, Imagnes, Dados Temporais e Trajetórias\n",
    "- Caminhos e oportunidades de formação"
   ]
  },
  {
   "cell_type": "markdown",
   "metadata": {
    "hideCode": false,
    "hidePrompt": false,
    "slideshow": {
     "slide_type": "slide"
    }
   },
   "source": [
    "## Vida e Formação\n",
    "\n",
    "- Natural da Argentina. Residente no Brasil desde 2002, aos 15~16 anos de idade\n",
    "\n",
    "- **Graduação em Ciência da Computação (2003 - 2006)**\n",
    "    - Instituição: Universidade Estadual do Oeste do Paraná (UNIOESTE)\n",
    "    - Atividades em um Laboratório de Pesquisa de Informática Médica (2004-2013)\n",
    "    - Temas: mineração de textos, de imagens e de dados temporais    \n",
    "    \n",
    "- **Mestrado em Ciência da Computação e Matemática Computacional (2007-2009)**\n",
    "    - Instituição: Instituto de Ciências Matemáticas e de Computação (ICMC), Universidade de São Paulo (USP)\n",
    "    - Atividades no Laboratório de Inteligência Computacional (LABIC)\n",
    "    - Temas: predição de dados temporais"
   ]
  },
  {
   "cell_type": "markdown",
   "metadata": {
    "hideCode": false,
    "hidePrompt": false,
    "slideshow": {
     "slide_type": "subslide"
    }
   },
   "source": [
    "- Professor e pesquisador na UNIOESTE, campus Foz do Iguaçu (2009-2014)\n",
    "\n",
    "- Professor e pesquisador no IFSC, campus Lages (desde 2014)\n",
    "\n",
    "- **Doutorando em Ciência da Computação (2015-2020)**\n",
    "    - Instituição: Univerisdade Federal de Santa Catarina (UFSC)\n",
    "    - Temas: classificação de dados espaço-temporais (trajetórias)    "
   ]
  },
  {
   "cell_type": "markdown",
   "metadata": {
    "hideCode": false,
    "hidePrompt": false,
    "slideshow": {
     "slide_type": "subslide"
    }
   },
   "source": [
    "## Atividades Atuais\n",
    "\n",
    "- **Professor e pesquisador** no Instituto Federal de Santa Catarina (IFSC), campus Lages\n",
    "    - Disciplinas de Mineração de Dados, Tópicos Especiais em IA e algumas de Desenvolvimento Web\n",
    "- **Grupos de Pesquisa**:\n",
    "    - Participante - Inteligência Computacional (USP/São Carlos) desde 2013    \n",
    "    - Participante - Inteligência Computacional e Inserção Tecnológica (UNILA/Foz do Iguaçu) desde 2017\n",
    "    - Lider - Análise Inteligente de Dados (IFSC/Lages) desde 2014  \n",
    "- **Projetos em Ciência de Dados**:\n",
    "    - Master: Multiple ASpects TrajEctoRy Mangement and Analysis (Projeto Europeu H2020-MSCA-RISE-2017)\n",
    "    - Predição de Risco de Evasão de Alunos usando Métodos de Inteligência Artificial (IFSC)\n",
    "    - Métodos Computacionais aplicados à Fiscalização de Tributos (IFSC, SISAMA, RF)\n",
    "    - *Sistema de Gerenciamento de Dados com Suporte a Reconhecimento Facial e de Impressão Digital (IFSC, DEAP)    \n",
    "- **Revisor de Periódicos e Integrante de Comite de Programa**:\n",
    "    - *Geographical Information Analytics* (GIA), *Symposium on Applied Computing* (SAC) - Qualis A1    \n",
    "    - *Knowledge Based Systems Journal* (KBS) - Qualis A1\n",
    "    - *Future Internet* e *Scientific Annals of Computer Science* - Sem qualis"
   ]
  },
  {
   "cell_type": "markdown",
   "metadata": {
    "hideCode": false,
    "hidePrompt": false,
    "slideshow": {
     "slide_type": "slide"
    }
   },
   "source": [
    "## Ciência de Dados"
   ]
  },
  {
   "cell_type": "markdown",
   "metadata": {
    "hideCode": false,
    "hidePrompt": false,
    "slideshow": {
     "slide_type": "subslide"
    }
   },
   "source": [
    "### Processo de Descoberta de Conhecimento (KDD) - 1989\n",
    "\n",
    "<img src=\"img/Processo de KDD.png\" width=\"80%\">"
   ]
  },
  {
   "cell_type": "markdown",
   "metadata": {
    "hideCode": false,
    "hidePrompt": false,
    "slideshow": {
     "slide_type": "subslide"
    }
   },
   "source": [
    "### Processo CRISP-DM - 1996\n",
    "\n",
    "<div class=\"text-center\">\n",
    "    <img class=\"\" src=\"https://www.kdnuggets.com/wp-content/uploads/crisp-dm-4-problems-fig1.png\" width=\"45%\">\n",
    "</div>\n",
    "\n",
    "- [Discussão da relação entre KDD e CRISP-DM](http://www.datascience-pm.com/crisp-dm-and-kdd/)"
   ]
  },
  {
   "cell_type": "markdown",
   "metadata": {
    "hideCode": false,
    "hidePrompt": false,
    "slideshow": {
     "slide_type": "subslide"
    }
   },
   "source": [
    "### Proceso de Ciência de Dados - Mais recente\n",
    "\n",
    "<img src=\"https://cdn-images-1.medium.com/max/1500/1*fBNC1lqYSdM6bjMxxr56Tw.png\" width=\"80%\">"
   ]
  },
  {
   "cell_type": "markdown",
   "metadata": {
    "hideCode": false,
    "hidePrompt": false,
    "slideshow": {
     "slide_type": "slide"
    }
   },
   "source": [
    "## O Que São Modelos?\n",
    "\n",
    "Em Aprendizado Supervisionado, **modelos** são funções que tentar predizer um objetivo.\n",
    "\n",
    "**Exemplo**\n",
    "\n",
    "Uma empresa que vende cervejas possui milhares rótulos. Obter opiniões confiáveis de clientes é custoso. A empresa fez um investimento para obter 300 opiniões de clientes sobre cervejas. No sistema de avaliação de produtos o clientes avaliam cada cerveja com as opções: **Compraria** ou **Nao Compararia**.\n",
    "\n",
    "**Problema**\n",
    "\n",
    "A empresa gostaria de saber se dadas as características de uma cerveja, é possível estimar se seria comprada pelos clientes ou não.\n",
    "\n",
    "**Coleta de Dados**\n",
    "\n",
    "Das cervejas avaliadas pelos clientes a empresa coletou as características de **Alcool** (teor alcoólico) e **IBUs** (unidades de amargor)."
   ]
  },
  {
   "cell_type": "markdown",
   "metadata": {
    "hideCode": false,
    "hidePrompt": false,
    "slideshow": {
     "slide_type": "subslide"
    }
   },
   "source": [
    "**Conjunto de Dados**\n",
    "\n",
    "O conjunto de dados tem 300 avaliações. Mostramos aqui as primeiras 20."
   ]
  },
  {
   "cell_type": "code",
   "execution_count": 229,
   "metadata": {
    "hideCode": true,
    "hidePrompt": false,
    "slideshow": {
     "slide_type": "skip"
    }
   },
   "outputs": [],
   "source": [
    "from sklearn.datasets.samples_generator import make_blobs\n",
    "\n",
    "n_features = 2\n",
    "n_samples = 300\n",
    "n_classes = 2\n",
    "\n",
    "_X, _y = make_blobs(n_samples=n_samples, centers=n_classes, n_features=n_features, cluster_std = 4, random_state = 1)\n",
    "\n",
    "import pandas as pd\n",
    "data = pd.DataFrame({\n",
    "    'Alcool' : _X[:,0], \n",
    "    'IBUs' : _X[:,1], \n",
    "    'target' : _y})\n",
    "\n",
    "from sklearn.preprocessing import MinMaxScaler\n",
    "data[['Alcool']] = MinMaxScaler(feature_range=(3, 13)).fit_transform(data[['Alcool']])\n",
    "data[['IBUs']] = MinMaxScaler(feature_range=(0, 20)).fit_transform(data[['IBUs']])\n",
    "data[\"target\"] = data[\"target\"].astype('category')\n",
    "\n",
    "data1 = data.copy()\n",
    "data1['target'] = data1['target'].replace({0: 'Não compraria', 1: 'Compraria'})\n",
    "\n",
    "\n",
    "import matplotlib.pyplot as plt\n",
    "import seaborn as sns"
   ]
  },
  {
   "cell_type": "code",
   "execution_count": 230,
   "metadata": {
    "hideCode": true
   },
   "outputs": [
    {
     "data": {
      "text/html": [
       "<div>\n",
       "<style scoped>\n",
       "    .dataframe tbody tr th:only-of-type {\n",
       "        vertical-align: middle;\n",
       "    }\n",
       "\n",
       "    .dataframe tbody tr th {\n",
       "        vertical-align: top;\n",
       "    }\n",
       "\n",
       "    .dataframe thead th {\n",
       "        text-align: right;\n",
       "    }\n",
       "</style>\n",
       "<table border=\"1\" class=\"dataframe\">\n",
       "  <thead>\n",
       "    <tr style=\"text-align: right;\">\n",
       "      <th></th>\n",
       "      <th>Alcool</th>\n",
       "      <th>IBUs</th>\n",
       "      <th>target</th>\n",
       "    </tr>\n",
       "  </thead>\n",
       "  <tbody>\n",
       "    <tr>\n",
       "      <th>0</th>\n",
       "      <td>5.09</td>\n",
       "      <td>9.77</td>\n",
       "      <td>Compraria</td>\n",
       "    </tr>\n",
       "    <tr>\n",
       "      <th>1</th>\n",
       "      <td>7.48</td>\n",
       "      <td>6.64</td>\n",
       "      <td>Compraria</td>\n",
       "    </tr>\n",
       "    <tr>\n",
       "      <th>2</th>\n",
       "      <td>7.74</td>\n",
       "      <td>20.00</td>\n",
       "      <td>Não compraria</td>\n",
       "    </tr>\n",
       "    <tr>\n",
       "      <th>3</th>\n",
       "      <td>9.51</td>\n",
       "      <td>12.69</td>\n",
       "      <td>Não compraria</td>\n",
       "    </tr>\n",
       "    <tr>\n",
       "      <th>4</th>\n",
       "      <td>9.73</td>\n",
       "      <td>13.63</td>\n",
       "      <td>Não compraria</td>\n",
       "    </tr>\n",
       "    <tr>\n",
       "      <th>5</th>\n",
       "      <td>10.19</td>\n",
       "      <td>13.69</td>\n",
       "      <td>Não compraria</td>\n",
       "    </tr>\n",
       "    <tr>\n",
       "      <th>6</th>\n",
       "      <td>6.33</td>\n",
       "      <td>5.42</td>\n",
       "      <td>Compraria</td>\n",
       "    </tr>\n",
       "    <tr>\n",
       "      <th>7</th>\n",
       "      <td>10.71</td>\n",
       "      <td>11.44</td>\n",
       "      <td>Não compraria</td>\n",
       "    </tr>\n",
       "    <tr>\n",
       "      <th>8</th>\n",
       "      <td>8.54</td>\n",
       "      <td>15.77</td>\n",
       "      <td>Não compraria</td>\n",
       "    </tr>\n",
       "    <tr>\n",
       "      <th>9</th>\n",
       "      <td>5.93</td>\n",
       "      <td>7.84</td>\n",
       "      <td>Compraria</td>\n",
       "    </tr>\n",
       "    <tr>\n",
       "      <th>10</th>\n",
       "      <td>6.16</td>\n",
       "      <td>8.12</td>\n",
       "      <td>Compraria</td>\n",
       "    </tr>\n",
       "    <tr>\n",
       "      <th>11</th>\n",
       "      <td>8.47</td>\n",
       "      <td>9.10</td>\n",
       "      <td>Compraria</td>\n",
       "    </tr>\n",
       "    <tr>\n",
       "      <th>12</th>\n",
       "      <td>11.64</td>\n",
       "      <td>13.61</td>\n",
       "      <td>Não compraria</td>\n",
       "    </tr>\n",
       "    <tr>\n",
       "      <th>13</th>\n",
       "      <td>5.12</td>\n",
       "      <td>7.31</td>\n",
       "      <td>Compraria</td>\n",
       "    </tr>\n",
       "    <tr>\n",
       "      <th>14</th>\n",
       "      <td>4.96</td>\n",
       "      <td>7.55</td>\n",
       "      <td>Compraria</td>\n",
       "    </tr>\n",
       "    <tr>\n",
       "      <th>15</th>\n",
       "      <td>9.80</td>\n",
       "      <td>12.50</td>\n",
       "      <td>Não compraria</td>\n",
       "    </tr>\n",
       "    <tr>\n",
       "      <th>16</th>\n",
       "      <td>7.58</td>\n",
       "      <td>8.50</td>\n",
       "      <td>Não compraria</td>\n",
       "    </tr>\n",
       "    <tr>\n",
       "      <th>17</th>\n",
       "      <td>3.00</td>\n",
       "      <td>1.83</td>\n",
       "      <td>Compraria</td>\n",
       "    </tr>\n",
       "    <tr>\n",
       "      <th>18</th>\n",
       "      <td>9.90</td>\n",
       "      <td>12.63</td>\n",
       "      <td>Não compraria</td>\n",
       "    </tr>\n",
       "    <tr>\n",
       "      <th>19</th>\n",
       "      <td>6.37</td>\n",
       "      <td>7.62</td>\n",
       "      <td>Compraria</td>\n",
       "    </tr>\n",
       "  </tbody>\n",
       "</table>\n",
       "</div>"
      ],
      "text/plain": [
       "    Alcool   IBUs         target\n",
       "0     5.09   9.77      Compraria\n",
       "1     7.48   6.64      Compraria\n",
       "2     7.74  20.00  Não compraria\n",
       "3     9.51  12.69  Não compraria\n",
       "4     9.73  13.63  Não compraria\n",
       "5    10.19  13.69  Não compraria\n",
       "6     6.33   5.42      Compraria\n",
       "7    10.71  11.44  Não compraria\n",
       "8     8.54  15.77  Não compraria\n",
       "9     5.93   7.84      Compraria\n",
       "10    6.16   8.12      Compraria\n",
       "11    8.47   9.10      Compraria\n",
       "12   11.64  13.61  Não compraria\n",
       "13    5.12   7.31      Compraria\n",
       "14    4.96   7.55      Compraria\n",
       "15    9.80  12.50  Não compraria\n",
       "16    7.58   8.50  Não compraria\n",
       "17    3.00   1.83      Compraria\n",
       "18    9.90  12.63  Não compraria\n",
       "19    6.37   7.62      Compraria"
      ]
     },
     "execution_count": 230,
     "metadata": {},
     "output_type": "execute_result"
    }
   ],
   "source": [
    "data1.round(2).head(20)"
   ]
  },
  {
   "cell_type": "markdown",
   "metadata": {
    "slideshow": {
     "slide_type": "subslide"
    }
   },
   "source": [
    "**Visualização de Dados**"
   ]
  },
  {
   "cell_type": "code",
   "execution_count": 231,
   "metadata": {
    "hideCode": true,
    "hidePrompt": false
   },
   "outputs": [
    {
     "data": {
      "text/plain": [
       "<seaborn.axisgrid.FacetGrid at 0x1d9a46c7978>"
      ]
     },
     "execution_count": 231,
     "metadata": {},
     "output_type": "execute_result"
    },
    {
     "data": {
      "image/png": "[encoded data removed]",
      "text/plain": [
       "<Figure size 752.6x576 with 1 Axes>"
      ]
     },
     "metadata": {
      "needs_background": "light"
     },
     "output_type": "display_data"
    }
   ],
   "source": [
    "plt.rcParams.update({'font.size': 16})\n",
    "sns.relplot(x='Alcool', y='IBUs', hue='target', style = \"target\", markers = ['o','^'], data = data1, height=8, s=120)"
   ]
  },
  {
   "cell_type": "markdown",
   "metadata": {
    "slideshow": {
     "slide_type": "subslide"
    }
   },
   "source": [
    "**Modelagem**\n",
    "\n",
    "Considere $x_1 = \\text{Alcool}$ e $x_2 = \\text{IBUs}$. Vamos ajustar um modelo tem o seguinte formato:\n",
    "\n",
    "$$ f(x_1, x_2) = w_1 * x_1 + w_2 * x_2 + b$$\n",
    "\n",
    "O modelo vai assumir que: \n",
    "- Os valores **Negativos** se referem a **Não compraria**\n",
    "- Os valores **Positivos** se referem a **Compraria**\n",
    "\n",
    "O valor de $w_1$ é o **peso** do *Alcool* na escolha de compra.\n",
    "\n",
    "O valor de $w_2$ é o **peso** de *IBUs* na escolha de compra.\n"
   ]
  },
  {
   "cell_type": "code",
   "execution_count": 232,
   "metadata": {
    "hideCode": true,
    "slideshow": {
     "slide_type": "skip"
    }
   },
   "outputs": [],
   "source": [
    "from sklearn.model_selection import train_test_split\n",
    "target = 'target'\n",
    "X = data.drop([target], axis=1)\n",
    "y = data[target].factorize()[0]\n",
    "\n",
    "X_train, X_test, y_train, y_test = train_test_split(X, y, test_size=0.25, stratify = y, random_state=10)"
   ]
  },
  {
   "cell_type": "code",
   "execution_count": 218,
   "metadata": {
    "hideCode": true,
    "slideshow": {
     "slide_type": "skip"
    }
   },
   "outputs": [
    {
     "data": {
      "text/html": [
       "<style>\n",
       ".mytext > * {    \n",
       "    font-size: 20px;\n",
       "}\n",
       "\n",
       "</style>\n"
      ],
      "text/plain": [
       "<IPython.core.display.HTML object>"
      ]
     },
     "metadata": {},
     "output_type": "display_data"
    }
   ],
   "source": [
    "%%html\n",
    "<style>\n",
    ".mytext > * {    \n",
    "    font-size: 20px;\n",
    "}\n",
    "\n",
    "</style>"
   ]
  },
  {
   "cell_type": "code",
   "execution_count": 234,
   "metadata": {
    "hideCode": true,
    "scrolled": true,
    "slideshow": {
     "slide_type": "skip"
    }
   },
   "outputs": [
    {
     "name": "stdout",
     "output_type": "stream",
     "text": [
      "[[0.53232297 0.24685007]]\n",
      "[-6.74425223]\n"
     ]
    },
    {
     "name": "stderr",
     "output_type": "stream",
     "text": [
      "C:\\Users\\andres\\Anaconda3\\envs\\dm\\lib\\site-packages\\sklearn\\linear_model\\logistic.py:432: FutureWarning: Default solver will be changed to 'lbfgs' in 0.22. Specify a solver to silence this warning.\n",
      "  FutureWarning)\n"
     ]
    }
   ],
   "source": [
    "from ipywidgets import interact, interactive, fixed,interact_manual\n",
    "import ipywidgets as widgets\n",
    "from IPython.display import display\n",
    "from sklearn.linear_model import LogisticRegression\n",
    "from mlxtend.plotting import plot_decision_regions\n",
    "import numpy as np\n",
    "\n",
    "model = LogisticRegression()\n",
    "model.fit(X_train,y_train)\n",
    "print(model.coef_)\n",
    "print(model.intercept_)\n",
    "\n",
    "def logistic_regression_plot(w1,w2,b):    \n",
    "    model.coef_= np.array([[w1,w2]])\n",
    "    model.intercept_ = b    \n",
    "    fig, ax = plt.subplots(figsize=(10, 10))\n",
    "    plot_decision_regions(X_train.to_numpy(), y_train, clf=model, legend=1, ax= ax, markers = ['o','^'], zoom_factor = 2, scatter_kwargs = {'s': 100})\n",
    "    handles, labels = ax.get_legend_handles_labels()\n",
    "    ax.legend(handles, ['compraria','não compraria'], framealpha=0.3, scatterpoints=1)\n",
    "    ax.set_xlabel(r'$x_1$ (Alcool)')\n",
    "    ax.set_ylabel(r'$x_2$ (IBUs)')\n",
    "    #ax.set_aspect('equal')\n",
    "\n",
    "plt.rcParams.update({'font.size': 16})\n",
    "from ipywidgets import Layout, Button, Box\n",
    "box_layout = Layout(border='solid', )\n",
    "\n",
    "function_math = widgets.HTMLMath(value=r\"<b>Modelo de Classificação</b> $$f(X) = w_1 x_1 + w_2 x_2 + b$$\", description='')\n",
    "w1 = widgets.FloatSlider(min=0.4,max=0.6,step=0.01, description = r'$w_1$', value = 0.5, continuous_update=False )\n",
    "w2 = widgets.FloatSlider(min=0.0,max=0.4,step=0.01, description = r'$w_2$', value = 0.2, continuous_update=False)\n",
    "b  = widgets.FloatSlider(min=-8,max=-2,step=0.1, description = 'b', value = -5, continuous_update=False)\n",
    "\n",
    "w1.add_class(\"mytext\")\n",
    "w2.add_class(\"mytext\")\n",
    "b.add_class(\"mytext\")\n",
    "ui = widgets.HBox([w1, w2, b])\n",
    "out = widgets.interactive_output(logistic_regression_plot, {'w1': w1, 'w2': w2, 'b': b})"
   ]
  },
  {
   "cell_type": "code",
   "execution_count": 236,
   "metadata": {
    "hideCode": true,
    "slideshow": {
     "slide_type": "subslide"
    }
   },
   "outputs": [
    {
     "data": {
      "application/vnd.jupyter.widget-view+json": {
       "model_id": "27b5b50dc0ba473ead689d47b990917c",
       "version_major": 2,
       "version_minor": 0
      },
      "text/plain": [
       "HBox(children=(FloatSlider(value=0.5, continuous_update=False, description='$w_1$', max=0.6, min=0.4, step=0.0…"
      ]
     },
     "metadata": {},
     "output_type": "display_data"
    },
    {
     "data": {
      "application/vnd.jupyter.widget-view+json": {
       "model_id": "6fdeb5ba2a92458495302a461710190a",
       "version_major": 2,
       "version_minor": 0
      },
      "text/plain": [
       "Output(outputs=({'output_type': 'display_data', 'data': {'text/plain': '<Figure size 720x720 with 1 Axes>', 'i…"
      ]
     },
     "metadata": {},
     "output_type": "display_data"
    }
   ],
   "source": [
    "display(ui, out)"
   ]
  },
  {
   "cell_type": "markdown",
   "metadata": {
    "hideCode": false,
    "slideshow": {
     "slide_type": "subslide"
    }
   },
   "source": [
    "Um método chamado de Regressão Logística consegue encontrar os melhores valores para essa função:\n",
    "- $w_1 = 0.53$\n",
    "- $w_2 = 0.25$\n",
    "- $b = - 6.70$\n",
    "\n",
    "Assim, o modelo para predizer se os clientes vão comprar uma cerveja ou não é dado por:\n",
    "\n",
    "\n",
    "$$ f(\\text{Alcool}, \\text{IBUs}) = 0.53 * \\text{Alcool} + 0.25 * \\text{IBUs} - 6.70 $$\n",
    "\n",
    "- Valores **Negativos** se referem a **Não Compraria**\n",
    "- Valores **Positivos** se referem a **Compraria**"
   ]
  },
  {
   "cell_type": "code",
   "execution_count": 237,
   "metadata": {
    "hideCode": true,
    "slideshow": {
     "slide_type": "skip"
    }
   },
   "outputs": [
    {
     "name": "stdout",
     "output_type": "stream",
     "text": [
      "[[0.53232297 0.24685007]]\n",
      "[-6.74425223]\n"
     ]
    },
    {
     "name": "stderr",
     "output_type": "stream",
     "text": [
      "C:\\Users\\andres\\Anaconda3\\envs\\dm\\lib\\site-packages\\sklearn\\linear_model\\logistic.py:432: FutureWarning: Default solver will be changed to 'lbfgs' in 0.22. Specify a solver to silence this warning.\n",
      "  FutureWarning)\n"
     ]
    }
   ],
   "source": [
    "model = LogisticRegression()\n",
    "model.fit(X_train,y_train)\n",
    "print(model.coef_)\n",
    "print(model.intercept_)"
   ]
  },
  {
   "cell_type": "markdown",
   "metadata": {
    "slideshow": {
     "slide_type": "subslide"
    }
   },
   "source": [
    "**Existem Outros Modelos Mais Sofisticados**"
   ]
  },
  {
   "cell_type": "code",
   "execution_count": 238,
   "metadata": {
    "hideCode": true
   },
   "outputs": [
    {
     "data": {
      "image/png": "[encoded data removed]",
      "text/plain": [
       "<Figure size 720x720 with 1 Axes>"
      ]
     },
     "metadata": {
      "needs_background": "light"
     },
     "output_type": "display_data"
    }
   ],
   "source": [
    "from sklearn.neighbors import KNeighborsClassifier\n",
    "model_knn = KNeighborsClassifier(n_neighbors=3)\n",
    "model_knn.fit(X_train,y_train)\n",
    "fig, ax = plt.subplots(figsize=(10, 10))\n",
    "plot_decision_regions(X_train.to_numpy(), y_train, clf=model_knn, legend=1, ax= ax, markers = ['o','^'], zoom_factor = 2, scatter_kwargs = {'s': 100})\n",
    "handles, labels = ax.get_legend_handles_labels()\n",
    "ax.legend(handles, ['compraria','não compraria'], framealpha=0.3, scatterpoints=1)\n",
    "ax.set_xlabel(r'$x_1$ (Alcool)')\n",
    "ax.set_ylabel(r'$x_2$ (IBUs)')\n",
    "plt.show()"
   ]
  },
  {
   "cell_type": "markdown",
   "metadata": {
    "slideshow": {
     "slide_type": "slide"
    }
   },
   "source": [
    "## Texto, Imagens, Dados Temporais, Trajetórias\n",
    "\n",
    "Estes tipos de dados estão super na moda atualmente. Vejam como as coisas se complicam:\n",
    "\n",
    "- **Texto**: *e se cada cliente que avaliou a cerveja ao fez um comentário próprio de até 400 caracteres sobre a mesma?*\n",
    "\n",
    "- **Imagens**: *e se tivessemos accesso ao rosto do cliente quando ele experimentou a cerveja?*\n",
    "\n",
    "- **Dados Temporais**: *e se soubéssemos o histórico de consumo de cervejas desses clientes?*\n",
    "\n",
    "- **Trajetórias**: *e se soubéssemos os locais e horários em que o cliente bebe cerveja? o que poderíamos oferecer?*"
   ]
  },
  {
   "cell_type": "markdown",
   "metadata": {
    "hideCode": true,
    "slideshow": {
     "slide_type": "subslide"
    }
   },
   "source": [
    "<div style=\"font-size:20pt;\">\n",
    "Ciência de Dados consiste em Pensar em Dados\n",
    "<div>"
   ]
  },
  {
   "cell_type": "markdown",
   "metadata": {
    "hideCode": false,
    "hidePrompt": false,
    "slideshow": {
     "slide_type": "slide"
    }
   },
   "source": [
    "## Caminhos e Oportunidades de Formação em Ciência de Dados\n",
    "\n",
    "- Cursos Online Free/Pagos\n",
    "    - Algebra, Cálculo e Cálculo Numérico (free) - Khan Academy https://www.khanacademy.org/\n",
    "    - Ciência de Dados \n",
    "        - Udacity\n",
    "            - Intro to Data Science (free)\n",
    "            - Data Science\n",
    "        - Coursera (free)\n",
    "    - Deep Learning\n",
    "        - Coursera (free)\n",
    "        - Udacity"
   ]
  },
  {
   "cell_type": "markdown",
   "metadata": {
    "hideCode": false,
    "hidePrompt": false,
    "slideshow": {
     "slide_type": "skip"
    }
   },
   "source": [
    "## Caminhos e Oportunidades de Formação em Ciência de Dados\n",
    "\n",
    "- Cursos Online Gratuítos/Pagos\n",
    "    - Algebra, Cálculo e Cálculo Numérico (free) - Khan Academy https://www.khanacademy.org/\n",
    "    - Ciência de Dados        - \n",
    "        - Udacity\n",
    "            - Intro to Data Science (free): https://www.udacity.com/course/intro-to-data-science--ud359\n",
    "            - Data Science: https://www.udacity.com/course/data-scientist-nanodegree--nd025\n",
    "        - Coursera (free) https://www.coursera.org/specializations/jhu-data-science        \n",
    "    - Deep Learning\n",
    "        - Coursera (free): https://www.coursera.org/specializations/deep-learning\n",
    "        - Udacity: https://www.udacity.com/course/deep-learning-nanodegree--nd101"
   ]
  },
  {
   "cell_type": "markdown",
   "metadata": {
    "hideCode": false,
    "hidePrompt": false,
    "slideshow": {
     "slide_type": "subslide"
    }
   },
   "source": [
    "**Oportunidades de Formação no Instituto Federal de Santa Catarina (IFSC/Lages)**\n",
    "\n",
    "- Matrícula em Disciplina Isolada para Graduados ou Graduandos\n",
    "- Portador de Diploma para Graduados (no inicio de cada semestre)\n",
    "- SISU para não graduados\n",
    "- Disciplinas:\n",
    "    - Mineração de Dados*\n",
    "    - Inteligência Artificial*\n",
    "    - Tópicos Especiais em IA*\n",
    "    - Estatística*\n",
    "    - Cálculo Numérico\n",
    "    - Álgebra e Geometria Analítica\n",
    "    - Cálculo I"
   ]
  },
  {
   "cell_type": "markdown",
   "metadata": {
    "slideshow": {
     "slide_type": "slide"
    }
   },
   "source": [
    "<link rel=\"stylesheet\" href=\"ipython.min.css\">\n",
    "\n",
    "<center>\n",
    "<img src=\"img/logoifsc.png\" width=\"20%\">\n",
    "\n",
    "---\n",
    "\n",
    "# Ciência de Dados\n",
    "## Modelos Preditivos\n",
    "\n",
    "### Prof. Carlos Andres Ferrero\n",
    "---\n",
    "\n",
    "</center>"
   ]
  }
 ],
 "metadata": {
  "anaconda-cloud": {},
  "celltoolbar": "Hide code",
  "hide_code_all_hidden": false,
  "kernelspec": {
   "display_name": "Python 3",
   "language": "python",
   "name": "python3"
  },
  "language_info": {
   "codemirror_mode": {
    "name": "ipython",
    "version": 3
   },
   "file_extension": ".py",
   "mimetype": "text/x-python",
   "name": "python",
   "nbconvert_exporter": "python",
   "pygments_lexer": "ipython3",
   "version": "3.7.3"
  },
  "rise": {
   "theme": "moon",
   "transition": "zoom"
  }
 },
 "nbformat": 4,
 "nbformat_minor": 2
}
